{
 "cells": [
  {
   "cell_type": "markdown",
   "metadata": {},
   "source": [
    "# Stochastic neighbour embedding\n",
    "\n",
    " * http://lvdmaaten.github.io/tsne\n",
    " * [Original article](http://jmlr.csail.mit.edu/papers/volume9/vandermaaten08a/vandermaaten08a.pdf) and author [presentation video](https://www.youtube.com/watch?v=RJVL80Gg3lA)\n",
    "\n",
    "Approximating a conditional probability distribution by learning embeddings $y_i$ of each data points\n",
    "$$ p_{j|i} \\approx q_{j|i} = \\frac{ \\exp ( - || y_i - y_j  ||^2) }{ \\sum_{k\\neq i} \\exp ( - || y_i - y_k  ||^2) }$$\n",
    "    "
   ]
  },
  {
   "cell_type": "code",
   "execution_count": 1,
   "metadata": {},
   "outputs": [
    {
     "data": {
      "text/plain": [
       "'0.4.0'"
      ]
     },
     "execution_count": 1,
     "metadata": {},
     "output_type": "execute_result"
    }
   ],
   "source": [
    "import torch\n",
    "import numpy as np\n",
    "from matplotlib import pyplot as plt\n",
    "%matplotlib inline\n",
    "\n",
    "torch.__version__"
   ]
  },
  {
   "cell_type": "markdown",
   "metadata": {},
   "source": [
    "## Toy model\n",
    "\n",
    "Transition probabilities between 3 states"
   ]
  },
  {
   "cell_type": "code",
   "execution_count": 2,
   "metadata": {},
   "outputs": [],
   "source": [
    "n = 3\n",
    "d = 2\n",
    "\n",
    "points_to_clusters = [0, 1, 2]\n",
    "\n",
    "p_ij = np.array([\n",
    "    [.3, .6, .1],\n",
    "     [.3, .4, .3],\n",
    "     [.1, .6, .3]])"
   ]
  },
  {
   "cell_type": "code",
   "execution_count": 3,
   "metadata": {},
   "outputs": [
    {
     "data": {
      "image/png": "[encoded data removed]",
      "text/plain": [
       "<matplotlib.figure.Figure at 0x115657a58>"
      ]
     },
     "metadata": {},
     "output_type": "display_data"
    }
   ],
   "source": [
    "plt.imshow(p_ij, cmap='Greys')\n",
    "plt.colorbar();"
   ]
  },
  {
   "cell_type": "code",
   "execution_count": 4,
   "metadata": {},
   "outputs": [
    {
     "data": {
      "image/png": "[encoded data removed]",
      "text/plain": [
       "<matplotlib.figure.Figure at 0x115a35f28>"
      ]
     },
     "metadata": {},
     "output_type": "display_data"
    }
   ],
   "source": [
    "y_i = np.random.normal(scale=.25, size=(n, d))\n",
    "\n",
    "def plot(y_i, points_to_clusters, ax=None, marker='o'):\n",
    "    if ax is None:\n",
    "        f, ax = plt.subplots(figsize=(10, 8))\n",
    "    colors = np.array(['r', 'g', 'b'])\n",
    "    ax.scatter(*y_i.T, color=colors[points_to_clusters], marker=marker)\n",
    "    ax.set_xlim([-1, 1]); ax.set_ylim([-1, 1]);\n",
    "    return ax\n",
    "\n",
    "plot(y_i, points_to_clusters);"
   ]
  },
  {
   "cell_type": "code",
   "execution_count": 5,
   "metadata": {},
   "outputs": [
    {
     "data": {
      "text/plain": [
       "array([[0.        , 0.08835925, 0.03685761],\n",
       "       [0.08835925, 0.        , 0.16799446],\n",
       "       [0.03685761, 0.16799446, 0.        ]])"
      ]
     },
     "execution_count": 5,
     "metadata": {},
     "output_type": "execute_result"
    }
   ],
   "source": [
    "# Numpy broadcasting to perform cartesian product of nxn euclidean distances\n",
    "# https://stackoverflow.com/a/37903795/230286\n",
    "\n",
    "# (n x 1 x d) - (n x d) -> (n x n x d)\n",
    "squared_distances_i_j_k = np.power(y_i[:, np.newaxis, :] - y_i, 2)\n",
    "pairwise_squared_distances_i_j = squared_distances_i_j_k.sum(axis=2)\n",
    "\n",
    "pairwise_squared_distances_i_j"
   ]
  },
  {
   "cell_type": "code",
   "execution_count": 6,
   "metadata": {},
   "outputs": [
    {
     "data": {
      "text/plain": [
       "array([[0.34731323, 0.33158328, 0.34309519],\n",
       "       [0.31794163, 0.3622151 , 0.30092802],\n",
       "       [0.33474514, 0.30620162, 0.35597679]])"
      ]
     },
     "execution_count": 6,
     "metadata": {},
     "output_type": "execute_result"
    }
   ],
   "source": [
    "unnormalized_q_i_j = np.exp(-pairwise_squared_distances_i_j)\n",
    "q_i_j = unnormalized_q_i_j / unnormalized_q_i_j.sum(axis=1)\n",
    "\n",
    "q_i_j"
   ]
  },
  {
   "cell_type": "markdown",
   "metadata": {},
   "source": [
    "### Pytorch equivalent"
   ]
  },
  {
   "cell_type": "code",
   "execution_count": 7,
   "metadata": {
    "collapsed": true
   },
   "outputs": [],
   "source": [
    "import torch\n",
    "import torch.autograd\n",
    "from torch.autograd import Variable"
   ]
  },
  {
   "cell_type": "code",
   "execution_count": 8,
   "metadata": {},
   "outputs": [
    {
     "data": {
      "text/plain": [
       "tensor([[ 0.0000,  0.0884,  0.0369],\n",
       "        [ 0.0884,  0.0000,  0.1680],\n",
       "        [ 0.0369,  0.1680,  0.0000]], dtype=torch.float64)"
      ]
     },
     "execution_count": 8,
     "metadata": {},
     "output_type": "execute_result"
    }
   ],
   "source": [
    "def pairwise_squared_distances(y_i: torch.Tensor):\n",
    "    # (n x 1 x d) - (n x d) -> (n x n x d)\n",
    "    squared_distances_ijk = (y_i[:, None, :] - y_i) ** 2\n",
    "    pairwise_squared_distances_ij = squared_distances_ijk.sum(2)    \n",
    "    return pairwise_squared_distances_ij\n",
    "\n",
    "pairwise_squared_distances(torch.from_numpy(y_i))"
   ]
  },
  {
   "cell_type": "code",
   "execution_count": 9,
   "metadata": {},
   "outputs": [
    {
     "data": {
      "text/plain": [
       "tensor([[ 0.3473,  0.3316,  0.3431],\n",
       "        [ 0.3179,  0.3622,  0.3009],\n",
       "        [ 0.3347,  0.3062,  0.3560]], dtype=torch.float64)"
      ]
     },
     "execution_count": 9,
     "metadata": {},
     "output_type": "execute_result"
    }
   ],
   "source": [
    "def approximated_probs(embeddings_i: torch.Tensor):\n",
    "    pairwise_squared_distances_ij = pairwise_squared_distances(embeddings_i)\n",
    "    unnormalized_q_ij = (-pairwise_squared_distances_ij).exp()\n",
    "    q_ij = unnormalized_q_ij / unnormalized_q_ij.sum(1)\n",
    "\n",
    "    return q_ij\n",
    "\n",
    "approximated_probs(torch.from_numpy(y_i))"
   ]
  },
  {
   "cell_type": "markdown",
   "metadata": {},
   "source": [
    "### Quick primer on [KL divergence](https://en.wikipedia.org/wiki/Kullback%E2%80%93Leibler_divergence)\n",
    "\n",
    " * roots in information theory (relative entropy)\n",
    " * \"measures how one probability distribution diverges from a second distribution\".\n",
    " * Well behaved cost function (differentiable) \n",
    " * Not a distance because assymetric:\n",
    "\n",
    "![title](https://image.slidesharecdn.com/vbtechtalk-150727192410-lva1-app6892/95/variational-inference-13-638.jpg?cb=1438030914)\n",
    "\n",
    "### Back to the T-SNE cost function\n",
    "\n",
    "KL divergence between $P_i$ and $Q_i$\n",
    "\n",
    "Equation (3)\n",
    "\n",
    "$$\n",
    "\\sum_i \\text{KL} (P_i||Qi) = \\sum_i \\sum_j p_{j|i} \\log \\frac{p_{j|i}}{q_{j|i}}\n",
    "$$"
   ]
  },
  {
   "cell_type": "code",
   "execution_count": 10,
   "metadata": {},
   "outputs": [
    {
     "data": {
      "text/plain": [
       "tensor([[ 0.3473,  0.3316,  0.3431],\n",
       "        [ 0.3179,  0.3622,  0.3009],\n",
       "        [ 0.3347,  0.3062,  0.3560]], dtype=torch.float64)"
      ]
     },
     "execution_count": 10,
     "metadata": {},
     "output_type": "execute_result"
    }
   ],
   "source": [
    "q_ij = approximated_probs(torch.from_numpy(y_i))\n",
    "q_ij"
   ]
  },
  {
   "cell_type": "code",
   "execution_count": 11,
   "metadata": {},
   "outputs": [
    {
     "data": {
      "text/plain": [
       "tensor(-0.4414, dtype=torch.float64)"
      ]
     },
     "execution_count": 11,
     "metadata": {},
     "output_type": "execute_result"
    }
   ],
   "source": [
    "def kl_divergence(p_ij: torch.Tensor, q_ij: torch.Tensor):\n",
    "    return (p_ij * (q_ij.log() - p_ij.log())).sum()\n",
    "\n",
    "kl = kl_divergence(torch.from_numpy(p_ij), q_ij)\n",
    "\n",
    "kl"
   ]
  },
  {
   "cell_type": "markdown",
   "metadata": {},
   "source": [
    "## Gradient through loss back-propagation"
   ]
  },
  {
   "cell_type": "code",
   "execution_count": 15,
   "metadata": {},
   "outputs": [
    {
     "data": {
      "text/plain": [
       "array([[-0.08211986, -0.04960628],\n",
       "       [-0.2399575 , -0.21342072],\n",
       "       [ 0.10156559, -0.16432029]])"
      ]
     },
     "execution_count": 15,
     "metadata": {},
     "output_type": "execute_result"
    },
    {
     "data": {
      "image/png": "[encoded data removed]",
      "text/plain": [
       "<matplotlib.figure.Figure at 0x115834908>"
      ]
     },
     "metadata": {},
     "output_type": "display_data"
    }
   ],
   "source": [
    "def updated_embeddings(current_y_i: np.array, p_ij: np.array, learning_rate=.2):\n",
    "    embeddings_i = Variable(torch.from_numpy(current_y_i), requires_grad=True)\n",
    "    \n",
    "    loss = kl_divergence(torch.from_numpy(p_ij), q_ij=approximated_probs(embeddings_i))\n",
    "\n",
    "    loss.backward()\n",
    "    embeddings_gradient_i = embeddings_i.grad.data.numpy()\n",
    "\n",
    "    return current_y_i + learning_rate * embeddings_gradient_i\n",
    "\n",
    "updated_y_i = updated_embeddings(y_i, p_ij)\n",
    "\n",
    "ax = plot(y_i, points_to_clusters)\n",
    "plot(updated_y_i, points_to_clusters, ax, marker='x')\n",
    "\n",
    "updated_y_i"
   ]
  },
  {
   "cell_type": "markdown",
   "metadata": {},
   "source": [
    "## Illustration on a slightly more interesting dataset\n",
    "\n",
    "$n$ individual data points spread accross 3 clusters, $p_ij$ depends on the cluster"
   ]
  },
  {
   "cell_type": "code",
   "execution_count": 16,
   "metadata": {},
   "outputs": [
    {
     "data": {
      "text/plain": [
       "array([0, 0, 0, 0, 0, 0, 0, 0, 0, 0, 0, 0, 0, 0, 0, 0, 0, 0, 0, 0, 0, 0,\n",
       "       0, 0, 0, 1, 1, 1, 1, 1, 1, 1, 1, 1, 1, 1, 1, 1, 1, 1, 1, 1, 1, 1,\n",
       "       1, 1, 1, 1, 1, 1, 2, 2, 2, 2, 2, 2, 2, 2, 2, 2, 2, 2, 2, 2, 2, 2,\n",
       "       2, 2, 2, 2, 2, 2, 2, 2, 2])"
      ]
     },
     "execution_count": 16,
     "metadata": {},
     "output_type": "execute_result"
    }
   ],
   "source": [
    "inter_p_ij = np.array(\n",
    "    [[.3, .6, .1],\n",
    "     [.3, .4, .3],\n",
    "     [.1, .6, .3]])\n",
    "\n",
    "n = 75\n",
    "points_to_clusters = np.repeat([0, 1, 2], repeats=25)\n",
    "\n",
    "p_ij = np.vstack([\n",
    "    np.repeat(inter_p_ij[0], repeats=25),\n",
    "    np.repeat(inter_p_ij[1], repeats=25),\n",
    "    np.repeat(inter_p_ij[2], repeats=25)])[points_to_clusters]\n",
    "\n",
    "p_ij = p_ij / p_ij.sum(1)\n",
    "\n",
    "points_to_clusters"
   ]
  },
  {
   "cell_type": "code",
   "execution_count": 17,
   "metadata": {},
   "outputs": [
    {
     "name": "stdout",
     "output_type": "stream",
     "text": [
      "(75, 75)\n",
      "(75, 2)\n"
     ]
    }
   ],
   "source": [
    "y_i = np.random.normal(scale=.25, size=(n, d))\n",
    "current_y_i = y_i\n",
    "\n",
    "print(p_ij.shape)\n",
    "print(current_y_i.shape)"
   ]
  },
  {
   "cell_type": "code",
   "execution_count": 34,
   "metadata": {},
   "outputs": [
    {
     "data": {
      "image/png": "[encoded data removed]",
      "text/plain": [
       "<matplotlib.figure.Figure at 0x116bd3f28>"
      ]
     },
     "metadata": {},
     "output_type": "display_data"
    }
   ],
   "source": [
    "# Execute repeatedly with Ctrl + Enter\n",
    "embeddings_i = Variable(torch.from_numpy(current_y_i), requires_grad=True)\n",
    "loss = kl_divergence(torch.from_numpy(p_ij), q_ij=approximated_probs(embeddings_i))\n",
    "loss.backward()\n",
    "\n",
    "learning_rate = .2\n",
    "updated_y_i = current_y_i + learning_rate * embeddings_i.grad.data.numpy()\n",
    "\n",
    "ax = plot(current_y_i, points_to_clusters)\n",
    "plot(updated_y_i, points_to_clusters, ax, marker='x')\n",
    "\n",
    "current_y_i = updated_y_i"
   ]
  },
  {
   "cell_type": "markdown",
   "metadata": {},
   "source": [
    "## Real data set"
   ]
  },
  {
   "cell_type": "code",
   "execution_count": 208,
   "metadata": {},
   "outputs": [
    {
     "data": {
      "text/plain": [
       "'<!DOCTYPE HTML PUBLIC>\\n<meta name=\"viewport\" content=\"width=device-width, initial-scale=1\">\\n<meta http-equiv=\"Cache-control\" content=\"public, min-fresh:10000000\">\\n<script language=\"JavaScript\" type=\"text/javascript\">\\nif (window == top) { document.write(\\'<div style=\"height:30px;\"></div><div id=\"content\" style=\"max-width:1010px;overflow:auto\">\\');}\\nelse {document.write(\\'<div id=\"content\" style=\"max-width:800px;overflow:auto\">\\');} </script>\\n\\n<script language=\"JavaScript\">var PUpage=\"76001067\"; var PUprop=\"geocities\"; </script><script language=\"JavaScript\" src=\"http://www.oocities.com/js_source/pu5geo.js\"></script><script language=\"JavaScript\"> var thGetOv=\"http://themis.geocities.yahoo.com/themis/h.php\"; var thCanURL=\"http://us.oocities.com/axiom43/ukdistance.html\"; var thSpaceId=\"76001067\"; var thIP=\"94.23.45.160\"; var thTs=\"1255588096\"; var thCs=\"627e9d0c93e53aeccaa82d745b516b8e\";</script><noscript><link rel=\"stylesheet\" href=\"http://themis.geocities.yahoo.com/jsoff.css?thIP=94.23.45.160&thTs=1255588096\"></noscript><script language=\"JavaScript\" src=\"http://us.oocities.com/js_source/geovck08.js\"></script>\\r\\n<!-- text above generated by server. PLEASE REMOVE -->\\r\\n<!doctype html public \"-//w3c//dtd html 3.2//en\">\\r\\n<html>\\r\\n<head>\\r\\n<title>UK Distance Chart</title>\\r\\n<meta name=\"GENERATOR\" content=\"Arachnophilia 4.0\">\\r\\n<meta name=\"FORMATTER\" content=\"Arachnophilia 4.0\">\\r\\n</head>\\r\\n<body bgcolor=\"#ffffff\" text=\"#000000\" link=\"#0000ff\" vlink=\"#800080\" alink=\"#ff0000\" background=\"/Axiom43/bg14-1a.jpg\">\\r\\n<!-- following code added by server. PLEASE REMOVE -->\\r\\n<link href=\"http://us.oocities.com/js_source/div.css\" rel=\"stylesheet\" type=\"text/css\"><script language=\"JavaScript\" src=\"http://us.oocities.com/js_source/div03.js\"></script>\\r\\n<!-- preceding code added by server. PLEASE REMOVE -->\\r\\n<center>\\r\\n<table  width=\"100%\" border=\"1\" cellspacing=\"0\" cellpadding=\"2\">\\r\\n\\t<tr>\\r\\n\\t\\t<!-- Row 1 Column 1 -->\\r\\n\\t\\t<td colspan=\"24\" align=\"center\" >\\r\\n\\t\\t\\t<b>\\r\\n\\t\\t\\t\\t<font size=\"4\" color=\"#000000\" face=\"Arial\">United Kingdom Distance Chart</font>\\r\\n\\t\\t\\t</b>\\r\\n\\t\\t</td>\\r\\n\\t</tr>\\r\\n\\t<tr>\\r\\n\\t\\t<!-- Row 2 Column 1 -->\\r\\n\\t\\t<td align=\"center\" valign=\"bottom\" >\\r\\n\\t\\t\\t<font size=\"2\" color=\"#000000\" face=\"Arial\">Y<br>o<br>r<br>k</font>\\r\\n\\t\\t</td>\\r\\n\\t\\t<!-- Row 2 Column 2 -->\\r\\n\\t\\t<td align=\"center\" valign=\"bottom\" >\\r\\n\\t\\t\\t<font size=\"2\" color=\"#0000ff\" face=\"Arial\">S<br>o<br>u<br>t<br>h<br>a<br>m<br>p<br>t<br>o<br>n</font>\\r\\n\\t\\t</td>\\r\\n\\t\\t<!-- Row 2 Column 3 -->\\r\\n\\t\\t<td align=\"center\" valign=\"bottom\" >\\r\\n\\t\\t\\t<font size=\"2\" color=\"#000000\" face=\"Arial\">S<br>h<br>e<br>f<br>f<br>i<br>e<br>l<br>d</font>\\r\\n\\t\\t</td>\\r\\n\\t\\t<!-- Row 2 Column 4 -->\\r\\n\\t\\t<td align=\"center\" valign=\"bottom\" >\\r\\n\\t\\t\\t<font size=\"2\" color=\"#0000ff\" face=\"Arial\">P<br>o<br>r<br>t<br>s<br>m<br>o<br>u<br>t<br>h</font>\\r\\n\\t\\t</td>\\r\\n\\t\\t<!-- Row 2 Column 5 -->\\r\\n\\t\\t<td align=\"center\" valign=\"bottom\" >\\r\\n\\t\\t\\t<font size=\"2\" color=\"#000000\" face=\"Arial\">O<br>x<br>f<br>o<br>r<br>d</font>\\r\\n\\t\\t</td>\\r\\n\\t\\t<!-- Row 2 Column 6 -->\\r\\n\\t\\t<td align=\"center\" valign=\"bottom\" >\\r\\n\\t\\t\\t<font size=\"2\" color=\"#0000ff\" face=\"Arial\">N<br>o<br>t<br>t<br>i<br>n<br>g<br>h<br>a<br>m</font>\\r\\n\\t\\t</td>\\r\\n\\t\\t<!-- Row 2 Column 7 -->\\r\\n\\t\\t<td align=\"center\" valign=\"bottom\" >\\r\\n\\t\\t\\t<font size=\"2\" color=\"#000000\" face=\"Arial\">N<br>o<br>r<br>w<br>i<br>c<br>h</font>\\r\\n\\t\\t</td>\\r\\n\\t\\t<!-- Row 2 Column 8 -->\\r\\n\\t\\t<td align=\"center\" valign=\"bottom\" >\\r\\n\\t\\t\\t<font size=\"2\" color=\"#0000ff\" face=\"Arial\">N<br>e<br>w<br>c<br>a<br>s<br>t<br>l<br>e</font>\\r\\n\\t\\t</td>\\r\\n\\t\\t<!-- Row 2 Column 9 -->\\r\\n\\t\\t<td align=\"center\" valign=\"bottom\" >\\r\\n\\t\\t\\t<font size=\"2\" color=\"#000000\" face=\"Arial\">M<br>a<br>n<br>c<br>h<br>e<br>s<br>t<br>e<br>r</font>\\r\\n\\t\\t</td>\\r\\n\\t\\t<!-- Row 2 Column 10 -->\\r\\n\\t\\t<td align=\"center\" valign=\"bottom\" >\\r\\n\\t\\t\\t<font size=\"2\" color=\"#0000ff\" face=\"Arial\">L<br>o<br>n<br>d<br>o<br>n</font>\\r\\n\\t\\t</td>\\r\\n\\t\\t<!-- Row 2 Column 11 -->\\r\\n\\t\\t<td align=\"center\" valign=\"bottom\" >\\r\\n\\t\\t\\t<font size=\"2\" color=\"#000000\" face=\"Arial\">L<br>i<br>v<br>e<br>r<br>p<br>o<br>o<br>l</font>\\r\\n\\t\\t</td>\\r\\n\\t\\t<!-- Row 2 Column 12 -->\\r\\n\\t\\t<td align=\"center\" valign=\"bottom\" >\\r\\n\\t\\t\\t<font size=\"2\" color=\"#0000ff\" face=\"Arial\">L<br>e<br>e<br>d<br>s</font>\\r\\n\\t\\t</td>\\r\\n\\t\\t<!-- Row 2 Column 13 -->\\r\\n\\t\\t<td align=\"center\" valign=\"bottom\" >\\r\\n\\t\\t\\t<font size=\"2\" color=\"#000000\" face=\"Arial\">I<br>n<br>v<br>e<br>r<br>n<br>e<br>s<br>s</font>\\r\\n\\t\\t</td>\\r\\n\\t\\t<!-- Row 2 Column 14 -->\\r\\n\\t\\t<td align=\"center\" valign=\"bottom\" >\\r\\n\\t\\t\\t<font size=\"2\" color=\"#0000ff\" face=\"Arial\">G<br>l<br>a<br>s<br>g<br>o<br>w</font>\\r\\n\\t\\t</td>\\r\\n\\t\\t<!-- Row 2 Column 15 -->\\r\\n\\t\\t<td align=\"center\" valign=\"bottom\" >\\r\\n\\t\\t\\t<font size=\"2\" color=\"#000000\" face=\"Arial\">E<br>x<br>e<br>t<br>e<br>r</font>\\r\\n\\t\\t</td>\\r\\n\\t\\t<!-- Row 2 Column 16 -->\\r\\n\\t\\t<td align=\"center\" valign=\"bottom\" >\\r\\n\\t\\t\\t<font size=\"2\" color=\"#0000ff\" face=\"Arial\">E<br>d<br>i<br>n<br>b<br>u<br>r<br>g<br>h</font>\\r\\n\\t\\t</td>\\r\\n\\t\\t<!-- Row 2 Column 17 -->\\r\\n\\t\\t<td align=\"center\" valign=\"bottom\" >\\r\\n\\t\\t\\t<font size=\"2\" color=\"#000000\" face=\"Arial\">D<br>o<br>v<br>e<br>r</font>\\r\\n\\t\\t</td>\\r\\n\\t\\t<!-- Row 2 Column 18 -->\\r\\n\\t\\t<td align=\"center\" valign=\"bottom\" >\\r\\n\\t\\t\\t<font size=\"2\" color=\"#0000ff\" face=\"Arial\">D<br>e<br>r<br>b<br>y</font>\\r\\n\\t\\t</td>\\r\\n\\t\\t<!-- Row 2 Column 19 -->\\r\\n\\t\\t<td align=\"center\" valign=\"bottom\" >\\r\\n\\t\\t\\t<font size=\"2\" color=\"#000000\" face=\"Arial\">C<br>a<br>r<br>d<br>i<br>f<br>f</font>\\r\\n\\t\\t</td>\\r\\n\\t\\t<!-- Row 2 Column 20 -->\\r\\n\\t\\t<td align=\"center\" valign=\"bottom\" >\\r\\n\\t\\t\\t<font size=\"2\" color=\"#0000ff\" face=\"Arial\">B<br>r<br>i<br>s<br>t<br>o<br>l</font>\\r\\n\\t\\t</td>\\r\\n\\t\\t<!-- Row 2 Column 21 -->\\r\\n\\t\\t<td align=\"center\" valign=\"bottom\" >\\r\\n\\t\\t\\t<font size=\"2\" color=\"#000000\" face=\"Arial\">B<br>i<br>r<br>m<br>i<br>n<br>g<br>h<br>a<br>m</font>\\r\\n\\t\\t</td>\\r\\n\\t\\t<!-- Row 2 Column 22 -->\\r\\n\\t\\t<td align=\"center\" valign=\"bottom\" >\\r\\n\\t\\t\\t<font size=\"2\" color=\"#0000ff\" face=\"Arial\">A<br>b<br>e<br>r<br>y<br>s<br>t<br>w<br>y<br>t<br>h</font>\\r\\n\\t\\t</td>\\r\\n\\t\\t<!-- Row 2 Column 23 -->\\r\\n\\t\\t<td align=\"center\" valign=\"bottom\" >\\r\\n\\t\\t\\t<font size=\"2\" color=\"#000000\" face=\"Arial\">A<br>b<br>e<br>r<br>d<br>e<br>e<br>n</font>\\r\\n\\t\\t</td>\\r\\n\\t\\t<!-- Row 2 Column 24 -->\\r\\n\\t\\t<td align=\"center\" valign=\"bottom\" >\\r\\n\\t\\t\\t<font size=\"2\" color=\"#0000ff\" face=\"Arial\">.</font>\\r\\n\\t\\t</td>\\r\\n\\t</tr>\\r\\n\\t<tr>\\r\\n\\t\\t<!-- Row 3 Column 1 -->\\r\\n\\t\\t<td align=\"right\" >\\r\\n\\t\\t\\t<font size=\"2\" color=\"#000000\" face=\"Arial\">307<br>195<br>129<br>217<br>231<br>88<br>264<br>186<br>292<br>210<br>344<br>25<br>97<br>194<br>65<br>82<br>181<br>80<br>174<br>252<br>53<br>239<center>-</center></font>\\r\\n\\t\\t</td>\\r\\n\\t\\t<!-- Row 3 Column 2 -->\\r\\n\\t\\t<td align=\"right\" >\\r\\n\\t\\t\\t<font size=\"2\" color=\"#0000ff\" face=\"Arial\">538<br>198<br>128<br>74<br>118<br>154<br>143<br>418<br>107<br>419<br>575<br>229<br>217<br>77<br>208<br>319<br>190<br>160<br>65<br>17<br>195<center>-</center>239<br></font>\\r\\n\\t\\t</td>\\r\\n\\t\\t<!-- Row 3 Column 3 -->\\r\\n\\t\\t<td align=\"right\" >\\r\\n\\t\\t\\t<font size=\"2\" color=\"#000000\" face=\"Arial\">347<br>156<br>76<br>164<br>178<br>37<br>229<br>227<br>240<br>241<br>385<br>34<br>72<br>160<br>38<br>128<br>146<br>38<br>130<br>208<center>-</center>195<br>53<br></font>\\r\\n\\t\\t</td>\\r\\n\\t\\t<!-- Row 3 Column 4 -->\\r\\n\\t\\t<td align=\"right\" >\\r\\n\\t\\t\\t<font size=\"2\" color=\"#0000ff\" face=\"Arial\">552<br>218<br>141<br>94<br>138<br>175<br>131<br>431<br>124<br>432<br>589<br>242<br>231<br>71<br>222<br>332<br>184<br>173<br>78<center>-</center>208<br>17<br>252<br></font>\\r\\n\\t\\t</td>\\r\\n\\t\\t<!-- Row 3 Column 5 -->\\r\\n\\t\\t<td align=\"right\" >\\r\\n\\t\\t\\t<font size=\"2\" color=\"#000000\" face=\"Arial\">473<br>157<br>63<br>70<br>104<br>90<br>129<br>353<br>141<br>354<br>511<br>164<br>153<br>56<br>144<br>254<br>141<br>95<center>-</center>78<br>130<br>65<br>174<br></font>\\r\\n\\t\\t</td>\\r\\n\\t\\t<!-- Row 3 Column 6 -->\\r\\n\\t\\t<td align=\"right\" >\\r\\n\\t\\t\\t<font size=\"2\" color=\"#0000ff\" face=\"Arial\">379<br>156<br>49<br>137<br>151<br>16<br>196<br>259<br>213<br>279<br>416<br>70<br>99<br>123<br>71<br>159<br>123<center>-</center>95<br>173<br>38<br>160<br>80<br></font>\\r\\n\\t\\t</td>\\r\\n\\t\\t<!-- Row 3 Column 7 -->\\r\\n\\t\\t<td align=\"right\" >\\r\\n\\t\\t\\t<font size=\"2\" color=\"#000000\" face=\"Arial\">480<br>271<br>161<br>209<br>235<br>139<br>156<br>360<br>282<br>383<br>517<br>174<br>217<br>112<br>185<br>260<center>-</center>123<br>141<br>184<br>146<br>190<br>181<br></font>\\r\\n\\t\\t</td>\\r\\n\\t\\t<!-- Row 3 Column 8 -->\\r\\n\\t\\t<td align=\"right\" >\\r\\n\\t\\t\\t<font size=\"2\" color=\"#0000ff\" face=\"Arial\">228<br>259<br>204<br>288<br>301<br>161<br>343<br>107<br>364<br>145<br>265<br>94<br>155<br>274<br>131<center>-</center>260<br>159<br>254<br>332<br>128<br>319<br>82<br></font>\\r\\n\\t\\t</td>\\r\\n\\t\\t<!-- Row 3 Column 9 -->\\r\\n\\t\\t<td align=\"right\" >\\r\\n\\t\\t\\t<font size=\"2\" color=\"#000000\" face=\"Arial\">333<br>131<br>81<br>162<br>173<br>59<br>257<br>213<br>238<br>214<br>371<br>41<br>34<br>184<center>-</center>131<br>185<br>71<br>144<br>222<br>38<br>208<br>65<br></font>\\r\\n\\t\\t</td>\\r\\n\\t\\t<!-- Row 3 Column 10 -->\\r\\n\\t\\t<td align=\"right\" >\\r\\n\\t\\t\\t<font size=\"2\" color=\"#0000ff\" face=\"Arial\">492<br>212<br>111<br>114<br>150<br>123<br>74<br>372<br>170<br>389<br>529<br>191<br>198<center>-</center>184<br>274<br>112<br>123<br>56<br>71<br>160<br>77<br>194<br></font>\\r\\n\\t\\t</td>\\r\\n\\t\\t<!-- Row 3 Column 11 -->\\r\\n\\t\\t<td align=\"right\" >\\r\\n\\t\\t\\t<font size=\"2\" color=\"#000000\" face=\"Arial\">335<br>105<br>90<br>161<br>165<br>81<br>270<br>214<br>237<br>216<br>372<br>73<center>-</center>198<br>34<br>155<br>217<br>99<br>153<br>231<br>72<br>217<br>97<br></font>\\r\\n\\t\\t</td>\\r\\n\\t\\t<!-- Row 3 Column 12 -->\\r\\n\\t\\t<td align=\"right\" >\\r\\n\\t\\t\\t<font size=\"2\" color=\"#0000ff\" face=\"Arial\">314<br>171<br>110<br>196<br>208<br>70<br>257<br>193<br>271<br>211<br>351<center>-</center>73<br>191<br>41<br>94<br>174<br>70<br>164<br>242<br>34<br>229<br>25<br></font>\\r\\n\\t\\t</td>\\r\\n\\t\\t<!-- Row 3 Column 13 -->\\r\\n\\t\\t<td align=\"right\" >\\r\\n\\t\\t\\t<font size=\"2\" color=\"#000000\" face=\"Arial\">107<br>477<br>448<br>527<br>530<br>419<br>600<br>158<br>602<br>167<center>-</center>351<br>372<br>529<br>371<br>265<br>517<br>416<br>511<br>589<br>385<br>575<br>344<br></font>\\r\\n\\t\\t</td>\\r\\n\\t\\t<!-- Row 3 Column 14 -->\\r\\n\\t\\t<td align=\"right\" >\\r\\n\\t\\t\\t<font size=\"2\" color=\"#0000ff\" face=\"Arial\">141<br>321<br>292<br>371<br>374<br>270<br>466<br>45<br>446<center>-</center>167<br>211<br>216<br>389<br>214<br>145<br>383<br>279<br>354<br>432<br>241<br>419<br>210<br></font>\\r\\n\\t\\t</td>\\r\\n\\t\\t<!-- Row 3 Column 15 -->\\r\\n\\t\\t<td align=\"right\" >\\r\\n\\t\\t\\t<font size=\"2\" color=\"#000000\" face=\"Arial\">565<br>199<br>164<br>75<br>120<br>203<br>244<br>444<center>-</center>446<br>602<br>271<br>237<br>170<br>238<br>364<br>282<br>213<br>141<br>124<br>240<br>107<br>292<br></font>\\r\\n\\t\\t</td>\\r\\n\\t\\t<!-- Row 3 Column 16 -->\\r\\n\\t\\t<td align=\"right\" >\\r\\n\\t\\t\\t<font size=\"2\" color=\"#0000ff\" face=\"Arial\">121<br>320<br>290<br>369<br>373<br>263<br>442<center>-</center>444<br>45<br>158<br>193<br>214<br>372<br>213<br>107<br>360<br>259<br>353<br>431<br>227<br>418<br>186<br></font>\\r\\n\\t\\t</td>\\r\\n\\t\\t<!-- Row 3 Column 17 -->\\r\\n\\t\\t<td align=\"right\" >\\r\\n\\t\\t\\t<font size=\"2\" color=\"#000000\" face=\"Arial\">563<br>285<br>185<br>189<br>228<br>196<center>-</center>442<br>244<br>466<br>600<br>257<br>270<br>74<br>257<br>343<br>156<br>196<br>129<br>131<br>229<br>143<br>264<br></font>\\r\\n\\t\\t</td>\\r\\n\\t\\t<!-- Row 3 Column 18 -->\\r\\n\\t\\t<td align=\"right\" >\\r\\n\\t\\t\\t<font size=\"2\" color=\"#0000ff\" face=\"Arial\">384<br>140<br>40<br>127<br>142<center>-</center>196<br>263<br>203<br>270<br>419<br>70<br>81<br>123<br>59<br>161<br>139<br>16<br>90<br>175<br>37<br>154<br>88<br></font>\\r\\n\\t\\t</td>\\r\\n\\t\\t<!-- Row 3 Column 19 -->\\r\\n\\t\\t<td align=\"right\" >\\r\\n\\t\\t\\t<font size=\"2\" color=\"#000000\" face=\"Arial\">493<br>110<br>102<br>44<center>-</center>142<br>228<br>373<br>120<br>374<br>530<br>208<br>165<br>150<br>173<br>301<br>235<br>151<br>104<br>138<br>178<br>118<br>231<br></font>\\r\\n\\t\\t</td>\\r\\n\\t\\t<!-- Row 3 Column 20 -->\\r\\n\\t\\t<td align=\"right\" >\\r\\n\\t\\t\\t<font size=\"2\" color=\"#0000ff\" face=\"Arial\">490<br>124<br>88<center>-</center>44<br>127<br>189<br>369<br>75<br>371<br>527<br>196<br>161<br>114<br>162<br>288<br>209<br>137<br>70<br>94<br>164<br>74<br>217<br></font>\\r\\n\\t\\t</td>\\r\\n\\t\\t<!-- Row 3 Column 21 -->\\r\\n\\t\\t<td align=\"right\" >\\r\\n\\t\\t\\t<font size=\"2\" color=\"#000000\" face=\"Arial\">411<br>116<center>-</center>88<br>102<br>40<br>185<br>290<br>164<br>292<br>448<br>110<br>90<br>111<br>81<br>204<br>161<br>49<br>63<br>141<br>76<br>128<br>129<br></font>\\r\\n\\t\\t</td>\\r\\n\\t\\t<!-- Row 3 Column 22 -->\\r\\n\\t\\t<td align=\"right\" >\\r\\n\\t\\t\\t<font size=\"2\" color=\"#0000ff\" face=\"Arial\">440<center>-</center>116<br>124<br>110<br>140<br>285<br>320<br>199<br>321<br>477<br>171<br>105<br>212<br>131<br>259<br>271<br>156<br>157<br>218<br>156<br>198<br>195<br></font>\\r\\n\\t\\t</td>\\r\\n\\t\\t<!-- Row 3 Column 23 -->\\r\\n\\t\\t<td align=\"right\" >\\r\\n\\t\\t\\t<font size=\"2\" color=\"#000000\" face=\"Arial\"><center>-</center>440<br>411<br>490<br>493<br>384<br>563<br>121<br>565<br>141<br>107<br>314<br>335<br>492<br>333<br>228<br>480<br>379<br>473<br>552<br>347<br>538<br>307<br></font>\\r\\n\\t\\t</td>\\r\\n\\t\\t<!-- Row 3 Column 24 -->\\r\\n\\t\\t<td >\\r\\n\\t\\t\\t<font size=\"2\" color=\"#000000\" face=\"Arial\">Aberdeen<br><font color=\"#0000ff\">Aberystwyth</font><br>Birmingham<br><font color=\"#0000ff\">Bristol</font><br>Cardiff<br><font color=\"#0000ff\">Derby</font><br>Dover<br><font color=\"#0000ff\">Edinburgh</font><br>Exeter<br><font color=\"#0000ff\">Glasgow</font><br>Inverness<br><font color=\"#0000ff\">Leeds</font><br>Liverpool<br><font color=\"#0000ff\">London</font><br>Manchester<br><font color=\"#0000ff\">Newcastle</font><br>Norwich<br><font color=\"#0000ff\">Nottingham</font><br>Oxford<br><font color=\"#0000ff\">Portsmouth</font><br>Sheffield<br><font color=\"#0000ff\">Southampton</font><br>York<br></font>\\r\\n\\t\\t</td>\\r\\n\\t</tr>\\r\\n\\t<tr>\\r\\n\\t\\t<td colspan=\"15\" >\\r\\n\\t\\t\\t<font size=\"2\" color=\"#000000\" face=\"Arial\">The above are the shortest practical routes by road for business use.\\r\\n\\t\\t\\t</font>\\r\\n\\t\\t</td>\\r\\n\\t\\t<td colspan=\"9\" align=\"right\" >\\r\\n\\t\\t\\t<font size=\"2\" color=\"#000000\" face=\"Arial\"><b>Distances given are in miles.</b></font>\\r\\n\\t\\t</td>\\r\\n\\t</tr>\\r\\n\\t<tr>\\r\\n\\t\\t<td colspan=\"24\">\\r\\n\\t\\t\\t<font size=\"2\" color=\"#000000\" face=\"Arial\">There may be shorter routes if you chose to use a ferry to cross rivers but, due to the capacity variations of each ferry, they have not been considered here. This table is suitable for vehicles ranging from motorcycles to the largest articulated lorry, but the larger vehicles may need to check on height restrictions of bridges. (<i>Axiompc</i>).</font>\\r\\n\\t\\t</td>\\r\\n\\t</tr>\\r\\n</table>\\r\\n</center>\\r\\n<p><hr width=600><p><center>\\r\\n<a href=\"javascript:history.back(1)\"><img src=\"/Axiom43/goback.gif\" border=0></a></center>\\r\\n<p><hr width=600><p><font face=\"Arial\" size=\"1\">\\r\\n<center>This page hosted by <a href=\"/\"><img src=\"/pictures/gc_icon.gif\" border=0 align=middle></a>\\r\\nGet your own <a href=\"/\">Free Home Page</a></center></font>\\r\\n</body>\\r\\n</html><!-- text below generated by server. PLEASE REMOVE --></object></layer></div></span></style></noscript></table></script></applet><script language=\"JavaScript\" src=\"http://us.i1.yimg.com/us.yimg.com/i/mc/mc.js\"></script><script language=\"JavaScript\" src=\"http://us.js2.yimg.com/us.js.yimg.com/lib/smb/js/hosting/cp/js_source/geov2_001.js\"></script><script language=\"javascript\">geovisit();</script><noscript><img src=\"http://visit.geocities.yahoo.com/visit.gif?us1255588096\" alt=\"setstats\" border=\"0\" width=\"1\" height=\"1\"></noscript>\\r\\n<IMG SRC=\"http://geo.yahoo.com/serv?s=76001067&t=1255588096&f=us-w5\" ALT=1 WIDTH=1 HEIGHT=1>\\r\\n</div><style> \\n.zoomout { -webkit-transition: -webkit-transform 0.5s ease;\\n-moz-transition: -moz-transform 0.5s ease;\\n-o-transition: -o-transform 0.5s ease;\\ntransition: transform 0.5s;\\n-ms-transition: transform 0.5s ease;}\\n.zoomin { \\nfilter: blur(0)\\n-webkit-transform: scaleY(1.15);\\n-moz-transform: scaleY(1.15);\\n-o-transform: scaleY(1.15);\\ntransform: scaleYY(1.15);\\n-ms-transform: scaleY(1.15);\\n} \\n#archive:hover { zoom:101%;)\\n</style>\\n<script language=\"JavaScript\" type=\"text/javascript\">\\nvar width  = window.innerWidth || (window.document.documentElement.clientWidth ||  window.document.body.clientWidth);\\nvar height = window.innerHeight || (window.document.documentElement.clientHeight || window.document.body.clientHeight);\\nvar d = document;\\nif (width>=806 && height>=468 || top.location.href == window.location.href) {\\nd.write(\\'<div id=\"archive\" onMouseOver=\"className=\\\\\\'zoomin\\\\\\';this.style.zIndex=\\\\\\'99\\\\\\'\"  onMouseOut=\"className=\\\\\\'zoomout\\\\\\';this.style.zIndex=\\\\\\'5\\\\\\'\" style=\"padding-left:25px;background-image:url(http://www.oocities.org/d.jpg); background-repeat:repeat-x; filter:alpha(opacity=88); -moz-opacity:0.88 ; opacity:0.88; position:fixed; background-color:#FFFFFF; width:100%; min-width:970px;  overflow:hidden; left:0px; top:0px; font-family:times; font-size:9px; border-bottom:5px solid #f7f7f7; color:#000000;background-color:#ffffe0;z-Index:5;\"><font style=\"font-size:16px\" color=\"#000000\"> This Page is an outdated, user-generated website brought to you by an archive</font><font style=\"font-family:times; font-size:9px\" color=\"#000000\">.It was mirrored from Geocities at the end of October, 2009.<br>For any questions concerning this page try to contact the respective author. (To report any malicious content send the URL to oocities(at gmail dot com). For question about the archive visit: <a style=\"color:#005577\" href=\"http://oocities.org\" target=\"_new\" title=\"geocities archive\">OoCities.org</a>.</font><div onClick=\"archive.style.display=\\\\\\'none\\\\\\'\"  onMouseOver=\"style.cursor=\\\\\\'pointer\\\\\\'\" style=\"font-size:17px;position:absolute;left:3px;top:3px;color:#999;line-height:20px\">[x]</div><div onClick=\"archive.style.display=\\\\\\'none\\\\\\';footer.style.display=\\\\\\'none\\\\\\'\"  onMouseOver=\"style.cursor=\\\\\\'pointer\\\\\\'\" style=\"font-size:19px;position:absolute;right:30px;top:0px;color:#777;line-height:20px\">[x]</div></div>\\');\\n<!--\\nvar x =  d.getElementById(\\'content\\').offsetWidth;\\nd.write(\\'<div id=\"foot\" style=\"position:fixed;left:1018px;top:31px;z-index:10;padding-bottom:3px\"><div id=\"ft72\">\\');\\nrp_account   = \\'9645\\';\\nrp_site      = \\'17527\\';\\nrp_zonesize  = \\'55620-15\\';\\nrp_slot   = \\'s\\';\\nrp_adtype    = \\'iframe\\';\\nrp_width     = \\'300\\';\\nrp_height    = \\'250\\';\\nrp_smartfile = \\'[SMART FILE URL]\\';\\nd.write(\\'<script language=\"JavaScript\" type=\"text/javascript\"\\');\\nd.write(\\'src=\"http://ads.rubiconproject.com/ad/9645.js\">\\');\\nd.write(\\'<\\\\/scr\\'+\\'ipt></div><div id=\"ft73\">\\');\\nd.write(\\'<script src=\"http://tag.contextweb.com/TagPublish/getjs.aspx?action=VIEWAD&cwrun=200&cwadformat=300X250&cwpid=532877&cwwidth=300&cwheight=250&cwpnet=1&cwtagid=525384\">\\');\\nd.write(\\'<\\\\/scr\\'+\\'ipt><\\\\/div>\\');\\nd.write(\\'<span onClick=\"foot.style.display=\\\\\\'none\\\\\\'\"  style=\"font-size:16px;position:relative;left:7px;color:#555;background-color:ccc;line-height:19px\"> \\\\[x\\\\]close <\\\\/span><\\\\/div>\\');\\n\\nif ( width-x>=440 || width>=1425) { \\nd.write(\\'<div id=\"footer\" style=\"position:fixed;left:1310px;top:31px;z-index:11;padding-bottom:3px\"><div id=\"ft74\">\\');\\n\\nvar cb = Math.random();\\nvar iframe = \"&fr=\" + (window != top);\\nvar ref = \"\";\\ntry {\\n    if (window != top) {\\n        ref = \"&rf=\"+escape(d.referrer);\\n    }\\n} catch (ignore) { }\\nd.write(\\'<script id=\"rp3\" language=\"JavaScript\" type=\"text/javascript\"\\');\\nd.write(\\'src=\"http://optimized-by.rubiconproject.com/a/9645/17527/55620-15.js?cb=\\'+cb+ref+iframe+\\'\">\\')\\nd.write(\\'<\\\\/scr\\'+\\'ipt><\\\\/div><div id=\"ft75\">\\');\\n\\nvar cb = Math.random();\\nvar iframe = \"&fr=\" + (window != top);\\nvar ref = \"\";\\ntry {\\n    if (window != top) {\\n        ref = \"&rf=\"+escape(d.referrer);\\n    }\\n} catch (ignore) { }\\nd.write(\\'<script id=\"rp4\" language=\"JavaScript\" type=\"text/javascript\"\\');\\nd.write(\\'src=\"http://optimized-by.rubiconproject.com/a/9645/17527/55620-15.js?cb=\\'+cb+ref+iframe+\\'\">\\');\\nd.write(\\'<\\\\/scr\\'+\\'ipt></div></div>\\');\\n}}\\n-->\\n</script>\\n<script type=\"text/javascript\">\\nif (x<=1015){d.getElementById(\\'foot\\').style.left = x + \"px\";}\\nd.getElementById(\\'footer\\').style.left = x + d.getElementById(\\'foot\\').offsetWidth + \"px\";\\n</script>\\n\\n<script type=\"text/javascript\">\\n<!--\\n   var _gaq = _gaq || [];\\n  _gaq.push([\\'_setAccount\\', \\'UA-26808115-1\\']);\\n  _gaq.push([\\'_setDomainName\\', \\'oocities.org\\']);\\n  _gaq.push([\\'_trackPageview\\']);\\n\\n  (function() {\\n    var ga = document.createElement(\\'script\\'); ga.type = \\'text/javascript\\'; ga.async = true;\\n    ga.src = (\\'https:\\' == document.location.protocol ? \\'https://ssl\\' : \\'http://www\\') + \\'.google-analytics.com/ga.js\\';\\n    var s = document.getElementsByTagName(\\'script\\')[0]; s.parentNode.insertBefore(ga, s);\\n  })();\\n-->\\n</script><script type=\"text/javascript\"> window.google_analytics_uacct = \"UA-26808115-1\"; </script>\\n\\n\\n\\n\\n'"
      ]
     },
     "execution_count": 208,
     "metadata": {},
     "output_type": "execute_result"
    }
   ],
   "source": [
    "import bs4\n",
    "import requests\n",
    "\n",
    "html = requests.get('http://www.oocities.org/Axiom43/ukdistance.html').text()\n",
    "\n",
    "bs4.BeautifulSoup(html).find('span')"
   ]
  },
  {
   "cell_type": "code",
   "execution_count": 203,
   "metadata": {},
   "outputs": [],
   "source": [
    "import pandas as pd\n",
    "\n",
    "tables = pd.read_html('http://www.oocities.org/Axiom43/ukdistance.html')"
   ]
  },
  {
   "cell_type": "code",
   "execution_count": 204,
   "metadata": {},
   "outputs": [
    {
     "data": {
      "text/html": [
       "<div>\n",
       "<style>\n",
       "    .dataframe thead tr:only-child th {\n",
       "        text-align: right;\n",
       "    }\n",
       "\n",
       "    .dataframe thead th {\n",
       "        text-align: left;\n",
       "    }\n",
       "\n",
       "    .dataframe tbody tr th {\n",
       "        vertical-align: top;\n",
       "    }\n",
       "</style>\n",
       "<table border=\"1\" class=\"dataframe\">\n",
       "  <thead>\n",
       "    <tr style=\"text-align: right;\">\n",
       "      <th></th>\n",
       "      <th>0</th>\n",
       "      <th>1</th>\n",
       "      <th>2</th>\n",
       "      <th>3</th>\n",
       "      <th>4</th>\n",
       "      <th>5</th>\n",
       "      <th>6</th>\n",
       "      <th>7</th>\n",
       "      <th>8</th>\n",
       "      <th>9</th>\n",
       "      <th>...</th>\n",
       "      <th>14</th>\n",
       "      <th>15</th>\n",
       "      <th>16</th>\n",
       "      <th>17</th>\n",
       "      <th>18</th>\n",
       "      <th>19</th>\n",
       "      <th>20</th>\n",
       "      <th>21</th>\n",
       "      <th>22</th>\n",
       "      <th>23</th>\n",
       "    </tr>\n",
       "  </thead>\n",
       "  <tbody>\n",
       "    <tr>\n",
       "      <th>0</th>\n",
       "      <td>United Kingdom Distance Chart</td>\n",
       "      <td>NaN</td>\n",
       "      <td>NaN</td>\n",
       "      <td>NaN</td>\n",
       "      <td>NaN</td>\n",
       "      <td>NaN</td>\n",
       "      <td>NaN</td>\n",
       "      <td>NaN</td>\n",
       "      <td>NaN</td>\n",
       "      <td>NaN</td>\n",
       "      <td>...</td>\n",
       "      <td>NaN</td>\n",
       "      <td>NaN</td>\n",
       "      <td>NaN</td>\n",
       "      <td>NaN</td>\n",
       "      <td>NaN</td>\n",
       "      <td>NaN</td>\n",
       "      <td>NaN</td>\n",
       "      <td>NaN</td>\n",
       "      <td>NaN</td>\n",
       "      <td>NaN</td>\n",
       "    </tr>\n",
       "    <tr>\n",
       "      <th>1</th>\n",
       "      <td>York</td>\n",
       "      <td>Southampton</td>\n",
       "      <td>Sheffield</td>\n",
       "      <td>Portsmouth</td>\n",
       "      <td>Oxford</td>\n",
       "      <td>Nottingham</td>\n",
       "      <td>Norwich</td>\n",
       "      <td>Newcastle</td>\n",
       "      <td>Manchester</td>\n",
       "      <td>London</td>\n",
       "      <td>...</td>\n",
       "      <td>Exeter</td>\n",
       "      <td>Edinburgh</td>\n",
       "      <td>Dover</td>\n",
       "      <td>Derby</td>\n",
       "      <td>Cardiff</td>\n",
       "      <td>Bristol</td>\n",
       "      <td>Birmingham</td>\n",
       "      <td>Aberystwyth</td>\n",
       "      <td>Aberdeen</td>\n",
       "      <td>.</td>\n",
       "    </tr>\n",
       "    <tr>\n",
       "      <th>2</th>\n",
       "      <td>3071951292172318826418629221034425971946582181...</td>\n",
       "      <td>5381981287411815414341810741957522921777208319...</td>\n",
       "      <td>3471567616417837229227240241385347216038128146...</td>\n",
       "      <td>5522181419413817513143112443258924223171222332...</td>\n",
       "      <td>4731576370104901293531413545111641535614425414...</td>\n",
       "      <td>3791564913715116196259213279416709912371159123...</td>\n",
       "      <td>4802711612092351391563602823835171742171121852...</td>\n",
       "      <td>22825920428830116134310736414526594155274131-2...</td>\n",
       "      <td>33313181162173592572132382143714134184-1311857...</td>\n",
       "      <td>49221211111415012374372170389529191198-1842741...</td>\n",
       "      <td>...</td>\n",
       "      <td>56519916475120203244444-4466022712371702383642...</td>\n",
       "      <td>121320290369373263442-444451581932143722131073...</td>\n",
       "      <td>563285185189228196-442244466600257270742573431...</td>\n",
       "      <td>38414040127142-1962632032704197081123591611391...</td>\n",
       "      <td>49311010244-1422283731203745302081651501733012...</td>\n",
       "      <td>49012488-4412718936975371527196161114162288209...</td>\n",
       "      <td>411116-881024018529016429244811090111812041614...</td>\n",
       "      <td>440-116124110140285320199321477171105212131259...</td>\n",
       "      <td>-440411490493384563121565141107314335492333228...</td>\n",
       "      <td>AberdeenAberystwythBirminghamBristolCardiffDer...</td>\n",
       "    </tr>\n",
       "    <tr>\n",
       "      <th>3</th>\n",
       "      <td>The above are the shortest practical routes by...</td>\n",
       "      <td>Distances given are in miles.</td>\n",
       "      <td>NaN</td>\n",
       "      <td>NaN</td>\n",
       "      <td>NaN</td>\n",
       "      <td>NaN</td>\n",
       "      <td>NaN</td>\n",
       "      <td>NaN</td>\n",
       "      <td>NaN</td>\n",
       "      <td>NaN</td>\n",
       "      <td>...</td>\n",
       "      <td>NaN</td>\n",
       "      <td>NaN</td>\n",
       "      <td>NaN</td>\n",
       "      <td>NaN</td>\n",
       "      <td>NaN</td>\n",
       "      <td>NaN</td>\n",
       "      <td>NaN</td>\n",
       "      <td>NaN</td>\n",
       "      <td>NaN</td>\n",
       "      <td>NaN</td>\n",
       "    </tr>\n",
       "    <tr>\n",
       "      <th>4</th>\n",
       "      <td>There may be shorter routes if you chose to us...</td>\n",
       "      <td>NaN</td>\n",
       "      <td>NaN</td>\n",
       "      <td>NaN</td>\n",
       "      <td>NaN</td>\n",
       "      <td>NaN</td>\n",
       "      <td>NaN</td>\n",
       "      <td>NaN</td>\n",
       "      <td>NaN</td>\n",
       "      <td>NaN</td>\n",
       "      <td>...</td>\n",
       "      <td>NaN</td>\n",
       "      <td>NaN</td>\n",
       "      <td>NaN</td>\n",
       "      <td>NaN</td>\n",
       "      <td>NaN</td>\n",
       "      <td>NaN</td>\n",
       "      <td>NaN</td>\n",
       "      <td>NaN</td>\n",
       "      <td>NaN</td>\n",
       "      <td>NaN</td>\n",
       "    </tr>\n",
       "  </tbody>\n",
       "</table>\n",
       "<p>5 rows × 24 columns</p>\n",
       "</div>"
      ],
      "text/plain": [
       "                                                  0   \\\n",
       "0                      United Kingdom Distance Chart   \n",
       "1                                               York   \n",
       "2  3071951292172318826418629221034425971946582181...   \n",
       "3  The above are the shortest practical routes by...   \n",
       "4  There may be shorter routes if you chose to us...   \n",
       "\n",
       "                                                  1   \\\n",
       "0                                                NaN   \n",
       "1                                        Southampton   \n",
       "2  5381981287411815414341810741957522921777208319...   \n",
       "3                      Distances given are in miles.   \n",
       "4                                                NaN   \n",
       "\n",
       "                                                  2   \\\n",
       "0                                                NaN   \n",
       "1                                          Sheffield   \n",
       "2  3471567616417837229227240241385347216038128146...   \n",
       "3                                                NaN   \n",
       "4                                                NaN   \n",
       "\n",
       "                                                  3   \\\n",
       "0                                                NaN   \n",
       "1                                         Portsmouth   \n",
       "2  5522181419413817513143112443258924223171222332...   \n",
       "3                                                NaN   \n",
       "4                                                NaN   \n",
       "\n",
       "                                                  4   \\\n",
       "0                                                NaN   \n",
       "1                                             Oxford   \n",
       "2  4731576370104901293531413545111641535614425414...   \n",
       "3                                                NaN   \n",
       "4                                                NaN   \n",
       "\n",
       "                                                  5   \\\n",
       "0                                                NaN   \n",
       "1                                         Nottingham   \n",
       "2  3791564913715116196259213279416709912371159123...   \n",
       "3                                                NaN   \n",
       "4                                                NaN   \n",
       "\n",
       "                                                  6   \\\n",
       "0                                                NaN   \n",
       "1                                            Norwich   \n",
       "2  4802711612092351391563602823835171742171121852...   \n",
       "3                                                NaN   \n",
       "4                                                NaN   \n",
       "\n",
       "                                                  7   \\\n",
       "0                                                NaN   \n",
       "1                                          Newcastle   \n",
       "2  22825920428830116134310736414526594155274131-2...   \n",
       "3                                                NaN   \n",
       "4                                                NaN   \n",
       "\n",
       "                                                  8   \\\n",
       "0                                                NaN   \n",
       "1                                         Manchester   \n",
       "2  33313181162173592572132382143714134184-1311857...   \n",
       "3                                                NaN   \n",
       "4                                                NaN   \n",
       "\n",
       "                                                  9   \\\n",
       "0                                                NaN   \n",
       "1                                             London   \n",
       "2  49221211111415012374372170389529191198-1842741...   \n",
       "3                                                NaN   \n",
       "4                                                NaN   \n",
       "\n",
       "                         ...                          \\\n",
       "0                        ...                           \n",
       "1                        ...                           \n",
       "2                        ...                           \n",
       "3                        ...                           \n",
       "4                        ...                           \n",
       "\n",
       "                                                  14  \\\n",
       "0                                                NaN   \n",
       "1                                             Exeter   \n",
       "2  56519916475120203244444-4466022712371702383642...   \n",
       "3                                                NaN   \n",
       "4                                                NaN   \n",
       "\n",
       "                                                  15  \\\n",
       "0                                                NaN   \n",
       "1                                          Edinburgh   \n",
       "2  121320290369373263442-444451581932143722131073...   \n",
       "3                                                NaN   \n",
       "4                                                NaN   \n",
       "\n",
       "                                                  16  \\\n",
       "0                                                NaN   \n",
       "1                                              Dover   \n",
       "2  563285185189228196-442244466600257270742573431...   \n",
       "3                                                NaN   \n",
       "4                                                NaN   \n",
       "\n",
       "                                                  17  \\\n",
       "0                                                NaN   \n",
       "1                                              Derby   \n",
       "2  38414040127142-1962632032704197081123591611391...   \n",
       "3                                                NaN   \n",
       "4                                                NaN   \n",
       "\n",
       "                                                  18  \\\n",
       "0                                                NaN   \n",
       "1                                            Cardiff   \n",
       "2  49311010244-1422283731203745302081651501733012...   \n",
       "3                                                NaN   \n",
       "4                                                NaN   \n",
       "\n",
       "                                                  19  \\\n",
       "0                                                NaN   \n",
       "1                                            Bristol   \n",
       "2  49012488-4412718936975371527196161114162288209...   \n",
       "3                                                NaN   \n",
       "4                                                NaN   \n",
       "\n",
       "                                                  20  \\\n",
       "0                                                NaN   \n",
       "1                                         Birmingham   \n",
       "2  411116-881024018529016429244811090111812041614...   \n",
       "3                                                NaN   \n",
       "4                                                NaN   \n",
       "\n",
       "                                                  21  \\\n",
       "0                                                NaN   \n",
       "1                                        Aberystwyth   \n",
       "2  440-116124110140285320199321477171105212131259...   \n",
       "3                                                NaN   \n",
       "4                                                NaN   \n",
       "\n",
       "                                                  22  \\\n",
       "0                                                NaN   \n",
       "1                                           Aberdeen   \n",
       "2  -440411490493384563121565141107314335492333228...   \n",
       "3                                                NaN   \n",
       "4                                                NaN   \n",
       "\n",
       "                                                  23  \n",
       "0                                                NaN  \n",
       "1                                                  .  \n",
       "2  AberdeenAberystwythBirminghamBristolCardiffDer...  \n",
       "3                                                NaN  \n",
       "4                                                NaN  \n",
       "\n",
       "[5 rows x 24 columns]"
      ]
     },
     "execution_count": 204,
     "metadata": {},
     "output_type": "execute_result"
    }
   ],
   "source": [
    "tables[0]"
   ]
  },
  {
   "cell_type": "code",
   "execution_count": 206,
   "metadata": {},
   "outputs": [
    {
     "data": {
      "text/plain": [
       "'30719512921723188264186292210344259719465821818017425253239-'"
      ]
     },
     "execution_count": 206,
     "metadata": {},
     "output_type": "execute_result"
    }
   ],
   "source": [
    "tables[0].iloc[2, 0]"
   ]
  },
  {
   "cell_type": "code",
   "execution_count": null,
   "metadata": {
    "collapsed": true
   },
   "outputs": [],
   "source": []
  }
 ],
 "metadata": {
  "kernelspec": {
   "display_name": "Python 3",
   "language": "python",
   "name": "python3"
  },
  "language_info": {
   "codemirror_mode": {
    "name": "ipython",
    "version": 3
   },
   "file_extension": ".py",
   "mimetype": "text/x-python",
   "name": "python",
   "nbconvert_exporter": "python",
   "pygments_lexer": "ipython3",
   "version": "3.6.2"
  }
 },
 "nbformat": 4,
 "nbformat_minor": 2
}
